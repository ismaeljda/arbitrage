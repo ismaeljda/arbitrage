{
 "cells": [
  {
   "cell_type": "code",
   "execution_count": 1,
   "metadata": {},
   "outputs": [],
   "source": [
    "from difflib import SequenceMatcher\n",
    "\n",
    "def str_similarity(a, b):\n",
    "\treturn SequenceMatcher(None, a, b).ratio()\n"
   ]
  },
  {
   "cell_type": "code",
   "execution_count": 2,
   "metadata": {},
   "outputs": [],
   "source": [
    "def get_game(game, others_df):\n",
    "    max_similarity = 0\n",
    "    best_match = None\n",
    "    \n",
    "    # Pour le match à comparer, on concatène les équipes pour faire la comparaison\n",
    "    game_str = f\"{game['Home_Team']} {game['Away_Team']}\"\n",
    "    \n",
    "    # On parcourt chaque ligne du DataFrame others\n",
    "    for _, other in others_df.iterrows():\n",
    "        # On fait la même chose pour l'autre match\n",
    "        other_str = f\"{other['Home_Team']} {other['Away_Team']}\"\n",
    "        \n",
    "        # Calcul de la similarité\n",
    "        similarity = str_similarity(game_str, other_str)\n",
    "        \n",
    "        # Si on trouve une meilleure correspondance\n",
    "        if similarity > max_similarity:\n",
    "            max_similarity = similarity\n",
    "            best_match = other\n",
    "    \n",
    "    return best_match\n",
    "\n",
    "\n"
   ]
  },
  {
   "cell_type": "code",
   "execution_count": 3,
   "metadata": {},
   "outputs": [],
   "source": [
    "def arb2(a, b):\n",
    "\treturn (1 - (1/a + 1/b)) * 100"
   ]
  },
  {
   "cell_type": "code",
   "execution_count": 4,
   "metadata": {},
   "outputs": [],
   "source": [
    "def analyze_arbitrage(df1, df2):\n",
    "    for index, row1 in df1.iterrows():\n",
    "        # Trouver le match le plus similaire directement avec row1\n",
    "        matching_row = get_game(row1, df2)\n",
    "        \n",
    "        # Calculer et afficher les arbitrages\n",
    "        arb1 = arb2(row1['Home_Odds'], matching_row['Away_Odds'])\n",
    "        arb2_value = arb2(row1['Away_Odds'], matching_row['Home_Odds'])\n",
    "        \n",
    "        print(f\"\\nMatch: {row1['Home_Team']} vs {row1['Away_Team']}\")\n",
    "        print(f\"Match trouvé: {matching_row['Home_Team']} vs {matching_row['Away_Team']}\")\n",
    "        print(f\"Cotes Unibet: Home={row1['Home_Odds']}, Away={row1['Away_Odds']}\")\n",
    "        print(f\"Cotes BetFirst: Home={matching_row['Home_Odds']}, Away={matching_row['Away_Odds']}\")\n",
    "        print(f\"Arbitrage Home/Away: {arb1:.2f}%\")\n",
    "        print(f\"Arbitrage Away/Home: {arb2_value:.2f}%\")"
   ]
  }
 ],
 "metadata": {
  "kernelspec": {
   "display_name": "Python 3",
   "language": "python",
   "name": "python3"
  },
  "language_info": {
   "codemirror_mode": {
    "name": "ipython",
    "version": 3
   },
   "file_extension": ".py",
   "mimetype": "text/x-python",
   "name": "python",
   "nbconvert_exporter": "python",
   "pygments_lexer": "ipython3",
   "version": "3.13.0"
  }
 },
 "nbformat": 4,
 "nbformat_minor": 2
}
