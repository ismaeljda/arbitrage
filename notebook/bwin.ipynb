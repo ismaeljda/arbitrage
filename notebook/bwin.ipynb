{
 "cells": [
  {
   "cell_type": "code",
   "execution_count": 1,
   "metadata": {},
   "outputs": [],
   "source": [
    "from bs4 import BeautifulSoup\n",
    "import pandas as pd\n",
    "\n",
    "def extract_moneyline_bwin(html_content):\n",
    "    soup = BeautifulSoup(html_content, 'html.parser')\n",
    "    match_data = []\n",
    "\n",
    "    # Trouver tous les blocs de matchs\n",
    "    matches = soup.find_all('div', class_='grid-event-wrapper')\n",
    "    \n",
    "    for match in matches:\n",
    "        try:\n",
    "            # Extraire les noms des équipes\n",
    "            team_elements = match.select('.participant-container .participant')\n",
    "            if len(team_elements) >= 2:\n",
    "                home_team = team_elements[0].text.strip()\n",
    "                away_team = team_elements[1].text.strip()\n",
    "            else:\n",
    "                print(\"Équipes non trouvées pour ce match.\")\n",
    "                continue\n",
    "\n",
    "            # Extraire les cotes Money Line\n",
    "            # Les cotes Money Line se trouvent dans la dernière colonne des options (habituellement deux options)\n",
    "            moneyline_elements = match.select('.grid-option-group:last-child .option-value')\n",
    "            if len(moneyline_elements) >= 2:\n",
    "                home_ml_odds = float(moneyline_elements[0].text.strip())\n",
    "                away_ml_odds = float(moneyline_elements[1].text.strip())\n",
    "            else:\n",
    "                print(\"Cotes Money Line non trouvées pour ce match.\")\n",
    "                continue\n",
    "\n",
    "            # Ajouter les données dans la liste\n",
    "            match_data.append({\n",
    "                'Home_Team': home_team,\n",
    "                'Away_Team': away_team,\n",
    "                'Home_Odds': home_ml_odds,\n",
    "                'Away_Odds': away_ml_odds\n",
    "            })\n",
    "\n",
    "        except Exception as e:\n",
    "            print(f\"Erreur lors de l'extraction des données du match : {e}\")\n",
    "            continue\n",
    "\n",
    "    # Convertir en DataFrame pour analyse/export\n",
    "    df = pd.DataFrame(match_data)\n",
    "    print(f\"Nombre total de matchs extraits : {len(df)}\")\n",
    "    return df\n"
   ]
  }
 ],
 "metadata": {
  "kernelspec": {
   "display_name": "Python 3",
   "language": "python",
   "name": "python3"
  },
  "language_info": {
   "codemirror_mode": {
    "name": "ipython",
    "version": 3
   },
   "file_extension": ".py",
   "mimetype": "text/x-python",
   "name": "python",
   "nbconvert_exporter": "python",
   "pygments_lexer": "ipython3",
   "version": "3.13.0"
  }
 },
 "nbformat": 4,
 "nbformat_minor": 2
}
