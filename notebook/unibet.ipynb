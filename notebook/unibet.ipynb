{
 "cells": [
  {
   "cell_type": "code",
   "execution_count": 1,
   "metadata": {},
   "outputs": [],
   "source": [
    "# def extract_match_unibet(html_content):\n",
    "#     soup = BeautifulSoup(html_content, 'html.parser')\n",
    "    \n",
    "#     # Trouver tous les matchs\n",
    "#     matches = soup.find_all('div', class_='f9aec _0c119 bd9c6')\n",
    "    \n",
    "#     # Stocker les données extraites\n",
    "#     match_data = []\n",
    "    \n",
    "#     for match in matches:\n",
    "#         try:\n",
    "#             # Équipes\n",
    "#             teams = match.find_all('div', {'data-test-name': 'teamName'})\n",
    "#             equipe_home = teams[0].text.strip()\n",
    "#             equipe_guest = teams[1].text.strip()\n",
    "            \n",
    "#             # Cotes\n",
    "#             odds = match.find_all('span', {'data-test-name': 'odds'})\n",
    "#             cote_home = float(odds[0].text.strip().replace(',', '.'))\n",
    "#             cote_guest = float(odds[1].text.strip().replace(',', '.'))\n",
    "            \n",
    "#             # Ajouter les données au tableau\n",
    "#             match_data.append({\n",
    "#                 'Equipe_Domicile': equipe_home,\n",
    "#                 'Equipe_Exterieur': equipe_guest,\n",
    "#                 'Cote_Domicile': cote_home,\n",
    "#                 'Cote_Exterieur': cote_guest\n",
    "#             })\n",
    "#         except Exception as e:\n",
    "#             print(f\"Erreur lors de l'extraction des données d'un match : {e}\")\n",
    "#             continue\n",
    "    \n",
    "#     # Transformer en DataFrame Pandas\n",
    "#     df = pd.DataFrame(match_data)\n",
    "#     return df"
   ]
  },
  {
   "cell_type": "code",
   "execution_count": 2,
   "metadata": {},
   "outputs": [],
   "source": [
    "from bs4 import BeautifulSoup\n",
    "import pandas as pd\n",
    "def extract_matches_unibet(html_content):\n",
    "    soup = BeautifulSoup(html_content, 'html.parser')\n",
    "    match_data = []\n",
    "    \n",
    "    matches = soup.find_all('div', class_='f9aec _0c119 bd9c6')\n",
    "    \n",
    "    for match in matches:\n",
    "        try:\n",
    "            teams = match.find_all('div', {'data-test-name': 'teamName'})\n",
    "            equipe_home = teams[0].text.strip()\n",
    "            equipe_guest = teams[1].text.strip()\n",
    "            \n",
    "            odds = match.find_all('span', {'data-test-name': 'odds'})\n",
    "            cote_home = float(odds[0].text.strip().replace(',', '.'))\n",
    "            cote_guest = float(odds[1].text.strip().replace(',', '.'))\n",
    "            \n",
    "            match_data.append({\n",
    "                'Home_Team': equipe_home,\n",
    "                'Away_Team': equipe_guest,\n",
    "                'Home_Odds': cote_home,\n",
    "                'Away_Odds': cote_guest\n",
    "            })\n",
    "        except Exception as e:\n",
    "            print(f\"Error extracting Unibet match data: {e}\")\n",
    "            continue\n",
    "    \n",
    "    return pd.DataFrame(match_data)"
   ]
  }
 ],
 "metadata": {
  "kernelspec": {
   "display_name": "Python 3",
   "language": "python",
   "name": "python3"
  },
  "language_info": {
   "codemirror_mode": {
    "name": "ipython",
    "version": 3
   },
   "file_extension": ".py",
   "mimetype": "text/x-python",
   "name": "python",
   "nbconvert_exporter": "python",
   "pygments_lexer": "ipython3",
   "version": "3.13.0"
  }
 },
 "nbformat": 4,
 "nbformat_minor": 2
}
