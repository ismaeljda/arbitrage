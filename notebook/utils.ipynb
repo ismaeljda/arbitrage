{
 "cells": [
  {
   "cell_type": "markdown",
   "metadata": {},
   "source": [
    "#Code pour extraire le html de la page en format joli et creer un fichier html"
   ]
  },
  {
   "cell_type": "code",
   "execution_count": 5,
   "metadata": {},
   "outputs": [
    {
     "name": "stdout",
     "output_type": "stream",
     "text": [
      "HTML sauvegardé dans 'page.html'\n"
     ]
    }
   ],
   "source": [
    "from selenium import webdriver\n",
    "from selenium.webdriver.chrome.options import Options\n",
    "from bs4 import BeautifulSoup\n",
    "import time\n",
    "\n",
    "def get_page_html():\n",
    "    # Configuration de Chrome\n",
    "    chrome_options = Options()\n",
    "    chrome_options.add_argument('--headless')\n",
    "    driver = webdriver.Chrome(options=chrome_options)\n",
    "    \n",
    "    try:\n",
    "        # Accéder à la page\n",
    "        url = \"https://fr.unibetsports.be/betting/sports/filter/basketball/all/matches\"\n",
    "        driver.get(url)\n",
    "        \n",
    "        # Attendre que la page charge (ajustez si nécessaire)\n",
    "        time.sleep(5)\n",
    "        \n",
    "        # Récupérer le HTML\n",
    "        html = driver.page_source\n",
    "        \n",
    "        # Parser avec BeautifulSoup\n",
    "        soup = BeautifulSoup(html, 'html.parser')\n",
    "        \n",
    "        # Sauvegarder le HTML dans un fichier pour inspection\n",
    "        with open('page.html', 'w', encoding='utf-8') as f:\n",
    "            f.write(soup.prettify())\n",
    "            \n",
    "        print(\"HTML sauvegardé dans 'page.html'\")\n",
    "        \n",
    "        return soup\n",
    "        \n",
    "    except Exception as e:\n",
    "        print(f\"Une erreur est survenue: {str(e)}\")\n",
    "        return None\n",
    "        \n",
    "    finally:\n",
    "        driver.quit()\n",
    "\n",
    "if __name__ == \"__main__\":\n",
    "    soup = get_page_html()"
   ]
  }
 ],
 "metadata": {
  "kernelspec": {
   "display_name": "Python 3",
   "language": "python",
   "name": "python3"
  },
  "language_info": {
   "codemirror_mode": {
    "name": "ipython",
    "version": 3
   },
   "file_extension": ".py",
   "mimetype": "text/x-python",
   "name": "python",
   "nbconvert_exporter": "python",
   "pygments_lexer": "ipython3",
   "version": "3.13.0"
  }
 },
 "nbformat": 4,
 "nbformat_minor": 2
}
