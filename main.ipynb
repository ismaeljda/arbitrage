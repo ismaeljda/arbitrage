{
 "cells": [
  {
   "cell_type": "code",
   "execution_count": 63,
   "metadata": {},
   "outputs": [],
   "source": [
    "import import_ipynb\n",
    "import betfirst\n",
    "import unibet\n",
    "import arbitrage"
   ]
  },
  {
   "cell_type": "code",
   "execution_count": 64,
   "metadata": {},
   "outputs": [],
   "source": [
    "from selenium import webdriver\n",
    "from selenium.webdriver.chrome.options import Options\n",
    "from bs4 import BeautifulSoup\n",
    "import time\n",
    "import pandas as pd\n",
    "\n",
    "def get_page_html(url):\n",
    "    chrome_options = Options()\n",
    "    chrome_options.add_argument('--headless')\n",
    "    driver = webdriver.Chrome(options=chrome_options)\n",
    "    driver.get(url) \n",
    "    time.sleep(5)\n",
    "    html = driver.page_source    \n",
    "    driver.quit()\n",
    "    return html"
   ]
  },
  {
   "cell_type": "code",
   "execution_count": 65,
   "metadata": {},
   "outputs": [],
   "source": [
    "def main():\n",
    "    betfirst_url = \"https://betfirst.dhnet.be/en/basketball/united-states-nba/\"\n",
    "    unibet_url = \"https://fr.unibetsports.be/betting/sports/filter/basketball/all/matches\"\n",
    "    betfirst_html = get_page_html(betfirst_url)\n",
    "    unibet_html = get_page_html(unibet_url)\n",
    "    betfirst_df = betfirst.extract_matches_betfirst(betfirst_html)\n",
    "    unibet_df = unibet.extract_matches_unibet(unibet_html)\n",
    "    arbitrage.analyze_arbitrage(betfirst_df,unibet_df)\n",
    "    "
   ]
  },
  {
   "cell_type": "code",
   "execution_count": 66,
   "metadata": {},
   "outputs": [
    {
     "name": "stdout",
     "output_type": "stream",
     "text": [
      "Match ajouté : BKN Nets vs PHI 76ers\n",
      "Match ajouté : DET Pistons vs MIN Timberwolves\n",
      "Match ajouté : IND Pacers vs PHO Suns\n",
      "Match ajouté : MIA Heat vs UTA Jazz\n",
      "Match ajouté : CHI Bulls vs NY Knicks\n",
      "Match ajouté : MIL Bucks vs POR Trail Blazers\n",
      "Match ajouté : SA Spurs vs DEN Nuggets\n",
      "Match ajouté : GS Warriors vs MEM Grizzlies\n",
      "Match ajouté : LA Clippers vs ATL Hawks\n",
      "\n",
      "Match: BKN Nets vs PHI 76ers\n",
      "Match trouvé: Brooklyn Nets vs Philadelphia 76ers\n",
      "Cotes Unibet: Home=3.6, Away=1.33\n",
      "Cotes BetFirst: Home=3.4, Away=1.33\n",
      "Arbitrage Home/Away: -2.97%\n",
      "Arbitrage Away/Home: -4.60%\n",
      "\n",
      "Match: DET Pistons vs MIN Timberwolves\n",
      "Match trouvé: Detroit Pistons vs Minnesota Timberwolves\n",
      "Cotes Unibet: Home=3.45, Away=1.34\n",
      "Cotes BetFirst: Home=3.35, Away=1.35\n",
      "Arbitrage Home/Away: -3.06%\n",
      "Arbitrage Away/Home: -4.48%\n",
      "\n",
      "Match: IND Pacers vs PHO Suns\n",
      "Match trouvé: Indiana Pacers vs Phoenix Suns\n",
      "Cotes Unibet: Home=1.83, Away=2.1\n",
      "Cotes BetFirst: Home=1.84, Away=2.02\n",
      "Arbitrage Home/Away: -4.15%\n",
      "Arbitrage Away/Home: -1.97%\n",
      "\n",
      "Match: MIA Heat vs UTA Jazz\n",
      "Match trouvé: Miami Heat vs Utah Jazz\n",
      "Cotes Unibet: Home=1.29, Away=3.9\n",
      "Cotes BetFirst: Home=1.3, Away=3.65\n",
      "Arbitrage Home/Away: -4.92%\n",
      "Arbitrage Away/Home: -2.56%\n",
      "\n",
      "Match: CHI Bulls vs NY Knicks\n",
      "Match trouvé: Chicago Bulls vs New York Knicks\n",
      "Cotes Unibet: Home=2.75, Away=1.5\n",
      "Cotes BetFirst: Home=2.85, Away=1.45\n",
      "Arbitrage Home/Away: -5.33%\n",
      "Arbitrage Away/Home: -1.75%\n",
      "\n",
      "Match: MIL Bucks vs POR Trail Blazers\n",
      "Match trouvé: Milwaukee Bucks vs Portland Trail Blazers\n",
      "Cotes Unibet: Home=1.13, Away=7.0\n",
      "Cotes BetFirst: Home=1.14, Away=6.0\n",
      "Arbitrage Home/Away: -5.16%\n",
      "Arbitrage Away/Home: -2.01%\n",
      "\n",
      "Match: SA Spurs vs DEN Nuggets\n",
      "Match trouvé: San Antonio Spurs vs Denver Nuggets\n",
      "Cotes Unibet: Home=2.4, Away=1.64\n",
      "Cotes BetFirst: Home=2.2, Away=1.71\n",
      "Arbitrage Home/Away: -0.15%\n",
      "Arbitrage Away/Home: -6.43%\n",
      "\n",
      "Match: GS Warriors vs MEM Grizzlies\n",
      "Match trouvé: Golden State Warriors vs Memphis Grizzlies\n",
      "Cotes Unibet: Home=1.74, Away=2.25\n",
      "Cotes BetFirst: Home=1.76, Away=2.12\n",
      "Arbitrage Home/Away: -4.64%\n",
      "Arbitrage Away/Home: -1.26%\n",
      "\n",
      "Match: LA Clippers vs ATL Hawks\n",
      "Match trouvé: LA Clippers vs Atlanta Hawks\n",
      "Cotes Unibet: Home=1.35, Away=3.45\n",
      "Cotes BetFirst: Home=1.36, Away=3.25\n",
      "Arbitrage Home/Away: -4.84%\n",
      "Arbitrage Away/Home: -2.51%\n"
     ]
    }
   ],
   "source": [
    "if __name__ == \"__main__\":\n",
    "    main()"
   ]
  }
 ],
 "metadata": {
  "kernelspec": {
   "display_name": "Python 3",
   "language": "python",
   "name": "python3"
  },
  "language_info": {
   "codemirror_mode": {
    "name": "ipython",
    "version": 3
   },
   "file_extension": ".py",
   "mimetype": "text/x-python",
   "name": "python",
   "nbconvert_exporter": "python",
   "pygments_lexer": "ipython3",
   "version": "3.13.0"
  }
 },
 "nbformat": 4,
 "nbformat_minor": 2
}
