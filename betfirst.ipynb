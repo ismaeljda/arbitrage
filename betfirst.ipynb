{
 "cells": [
  {
   "cell_type": "code",
   "execution_count": 10,
   "metadata": {},
   "outputs": [],
   "source": [
    "from bs4 import BeautifulSoup\n",
    "import pandas as pd\n",
    "\n",
    "def extract_matches_betfirst(html_content):\n",
    "    soup = BeautifulSoup(html_content, 'html.parser')\n",
    "    match_data = []\n",
    "    \n",
    "    # Trouve tous les matchs avec le bon sélecteur\n",
    "    matches = soup.find_all('div', class_='rj-ev-list__ev-card__inner')\n",
    "    \n",
    "    for match in matches:\n",
    "        try:\n",
    "            # Extract teams\n",
    "            team_names = match.find_all('span', class_='rj-ev-list__name-text')\n",
    "            if len(team_names) >= 2:\n",
    "                home_team = team_names[0].text.strip()\n",
    "                away_team = team_names[1].text.strip()\n",
    "                \n",
    "                # Extract moneyline odds\n",
    "                moneyline_div = match.find('div', {'data-market-type': '1_0'})\n",
    "                if moneyline_div:\n",
    "                    moneyline_buttons = moneyline_div.find_all('button')\n",
    "                    home_odds = float(moneyline_buttons[0].find('span', class_='rj-ev-list__bet-btn__odd').text.strip())\n",
    "                    away_odds = float(moneyline_buttons[1].find('span', class_='rj-ev-list__bet-btn__odd').text.strip())\n",
    "                    \n",
    "                    match_info = {\n",
    "                        'Home_Team': home_team,\n",
    "                        'Away_Team': away_team,\n",
    "                        'Home_Odds': home_odds,\n",
    "                        'Away_Odds': away_odds\n",
    "                    }\n",
    "                    \n",
    "                    match_data.append(match_info)\n",
    "            \n",
    "        except Exception as e:\n",
    "            print(f\"Error extracting match data: {e}\")\n",
    "            continue\n",
    "    \n",
    "    return pd.DataFrame(match_data)"
   ]
  }
 ],
 "metadata": {
  "kernelspec": {
   "display_name": "Python 3",
   "language": "python",
   "name": "python3"
  },
  "language_info": {
   "codemirror_mode": {
    "name": "ipython",
    "version": 3
   },
   "file_extension": ".py",
   "mimetype": "text/x-python",
   "name": "python",
   "nbconvert_exporter": "python",
   "pygments_lexer": "ipython3",
   "version": "3.13.0"
  }
 },
 "nbformat": 4,
 "nbformat_minor": 2
}
